{
 "cells": [
  {
   "cell_type": "markdown",
   "id": "8a4fd488",
   "metadata": {},
   "source": [
    "### Loading liberaries"
   ]
  },
  {
   "cell_type": "code",
   "execution_count": 2,
   "id": "204b23b9",
   "metadata": {},
   "outputs": [],
   "source": [
    "import numpy as np # linear algebra\n",
    "import pandas as pd"
   ]
  },
  {
   "cell_type": "code",
   "execution_count": null,
   "id": "02056bc0",
   "metadata": {},
   "outputs": [],
   "source": []
  },
  {
   "cell_type": "markdown",
   "id": "9df7f01f",
   "metadata": {},
   "source": [
    "### Loading data"
   ]
  },
  {
   "cell_type": "code",
   "execution_count": 5,
   "id": "b0da0395",
   "metadata": {},
   "outputs": [
    {
     "data": {
      "text/html": [
       "<div>\n",
       "<style scoped>\n",
       "    .dataframe tbody tr th:only-of-type {\n",
       "        vertical-align: middle;\n",
       "    }\n",
       "\n",
       "    .dataframe tbody tr th {\n",
       "        vertical-align: top;\n",
       "    }\n",
       "\n",
       "    .dataframe thead th {\n",
       "        text-align: right;\n",
       "    }\n",
       "</style>\n",
       "<table border=\"1\" class=\"dataframe\">\n",
       "  <thead>\n",
       "    <tr style=\"text-align: right;\">\n",
       "      <th></th>\n",
       "      <th>U.S. Custom Ports</th>\n",
       "      <th>Coast</th>\n",
       "      <th>2000</th>\n",
       "      <th>2001</th>\n",
       "      <th>2002</th>\n",
       "      <th>2003</th>\n",
       "      <th>2004</th>\n",
       "      <th>2005</th>\n",
       "      <th>2006</th>\n",
       "      <th>2007</th>\n",
       "      <th>2008</th>\n",
       "      <th>2009</th>\n",
       "      <th>2010</th>\n",
       "      <th>2011</th>\n",
       "      <th>2012</th>\n",
       "      <th>2013</th>\n",
       "      <th>2014</th>\n",
       "      <th>2015</th>\n",
       "      <th>2016</th>\n",
       "      <th>2017</th>\n",
       "    </tr>\n",
       "  </thead>\n",
       "  <tbody>\n",
       "    <tr>\n",
       "      <th>0</th>\n",
       "      <td>Aberdeen, WA</td>\n",
       "      <td>P</td>\n",
       "      <td>0</td>\n",
       "      <td>0</td>\n",
       "      <td>0</td>\n",
       "      <td>0</td>\n",
       "      <td>0</td>\n",
       "      <td>8</td>\n",
       "      <td>0</td>\n",
       "      <td>0</td>\n",
       "      <td>0</td>\n",
       "      <td>29</td>\n",
       "      <td>0</td>\n",
       "      <td>16</td>\n",
       "      <td>414</td>\n",
       "      <td>645</td>\n",
       "      <td>855</td>\n",
       "      <td>43</td>\n",
       "      <td>505</td>\n",
       "      <td>383</td>\n",
       "    </tr>\n",
       "    <tr>\n",
       "      <th>1</th>\n",
       "      <td>Anacortes, WA</td>\n",
       "      <td>P</td>\n",
       "      <td>0</td>\n",
       "      <td>0</td>\n",
       "      <td>0</td>\n",
       "      <td>0</td>\n",
       "      <td>0</td>\n",
       "      <td>0</td>\n",
       "      <td>0</td>\n",
       "      <td>0</td>\n",
       "      <td>0</td>\n",
       "      <td>0</td>\n",
       "      <td>0</td>\n",
       "      <td>0</td>\n",
       "      <td>0</td>\n",
       "      <td>11</td>\n",
       "      <td>0</td>\n",
       "      <td>0</td>\n",
       "      <td>0</td>\n",
       "      <td>0</td>\n",
       "    </tr>\n",
       "    <tr>\n",
       "      <th>2</th>\n",
       "      <td>Anchorage, AK</td>\n",
       "      <td>AK</td>\n",
       "      <td>0</td>\n",
       "      <td>0</td>\n",
       "      <td>0</td>\n",
       "      <td>3,135</td>\n",
       "      <td>28,495</td>\n",
       "      <td>4,949</td>\n",
       "      <td>1,185</td>\n",
       "      <td>824</td>\n",
       "      <td>663</td>\n",
       "      <td>1,208</td>\n",
       "      <td>540</td>\n",
       "      <td>2,302</td>\n",
       "      <td>5,471</td>\n",
       "      <td>13,274</td>\n",
       "      <td>6,792</td>\n",
       "      <td>11,646</td>\n",
       "      <td>15,823</td>\n",
       "      <td>18,779</td>\n",
       "    </tr>\n",
       "    <tr>\n",
       "      <th>3</th>\n",
       "      <td>Baltimore, MD</td>\n",
       "      <td>A</td>\n",
       "      <td>1,899,689</td>\n",
       "      <td>1,942,158</td>\n",
       "      <td>2,189,129</td>\n",
       "      <td>2,077,996</td>\n",
       "      <td>2,641,888</td>\n",
       "      <td>2,640,988</td>\n",
       "      <td>2,824,549</td>\n",
       "      <td>2,756,330</td>\n",
       "      <td>2,855,096</td>\n",
       "      <td>2,380,630</td>\n",
       "      <td>2,929,029</td>\n",
       "      <td>3,108,746</td>\n",
       "      <td>3,243,542</td>\n",
       "      <td>3,438,606</td>\n",
       "      <td>3,691,480</td>\n",
       "      <td>3,977,777</td>\n",
       "      <td>4,264,068</td>\n",
       "      <td>4,871,362</td>\n",
       "    </tr>\n",
       "    <tr>\n",
       "      <th>4</th>\n",
       "      <td>Baton Rouge, LA</td>\n",
       "      <td>G</td>\n",
       "      <td>8</td>\n",
       "      <td>0</td>\n",
       "      <td>959</td>\n",
       "      <td>21</td>\n",
       "      <td>3</td>\n",
       "      <td>149</td>\n",
       "      <td>1,562</td>\n",
       "      <td>0</td>\n",
       "      <td>0</td>\n",
       "      <td>1,164</td>\n",
       "      <td>6,456</td>\n",
       "      <td>2,587</td>\n",
       "      <td>12</td>\n",
       "      <td>1,987</td>\n",
       "      <td>72</td>\n",
       "      <td>0</td>\n",
       "      <td>27</td>\n",
       "      <td>0</td>\n",
       "    </tr>\n",
       "  </tbody>\n",
       "</table>\n",
       "</div>"
      ],
      "text/plain": [
       "  U.S. Custom Ports Coast       2000       2001       2002       2003  \\\n",
       "0      Aberdeen, WA     P          0          0          0          0   \n",
       "1     Anacortes, WA     P          0          0          0          0   \n",
       "2     Anchorage, AK    AK          0          0          0      3,135   \n",
       "3     Baltimore, MD     A  1,899,689  1,942,158  2,189,129  2,077,996   \n",
       "4   Baton Rouge, LA     G          8          0        959         21   \n",
       "\n",
       "        2004       2005       2006       2007       2008       2009  \\\n",
       "0          0          8          0          0          0         29   \n",
       "1          0          0          0          0          0          0   \n",
       "2     28,495      4,949      1,185        824        663      1,208   \n",
       "3  2,641,888  2,640,988  2,824,549  2,756,330  2,855,096  2,380,630   \n",
       "4          3        149      1,562          0          0      1,164   \n",
       "\n",
       "        2010       2011       2012       2013       2014       2015  \\\n",
       "0          0         16        414        645        855         43   \n",
       "1          0          0          0         11          0          0   \n",
       "2        540      2,302      5,471     13,274      6,792     11,646   \n",
       "3  2,929,029  3,108,746  3,243,542  3,438,606  3,691,480  3,977,777   \n",
       "4      6,456      2,587         12      1,987         72          0   \n",
       "\n",
       "        2016       2017  \n",
       "0        505        383  \n",
       "1          0          0  \n",
       "2     15,823     18,779  \n",
       "3  4,264,068  4,871,362  \n",
       "4         27          0  "
      ]
     },
     "execution_count": 5,
     "metadata": {},
     "output_type": "execute_result"
    }
   ],
   "source": [
    "df = pd.read_csv('./data/container-ports-2000-2017.csv')\n",
    "df.head()"
   ]
  },
  {
   "cell_type": "code",
   "execution_count": 17,
   "id": "c98996c4",
   "metadata": {},
   "outputs": [
    {
     "name": "stdout",
     "output_type": "stream",
     "text": [
      "Index(['U.S. Custom Ports', 'Coast', '2000', '2001', '2002', '2003', '2004',\n",
      "       '2005', '2006', '2007', '2008', '2009', '2010', '2011', '2012', '2013',\n",
      "       '2014', '2015', '2016', '2017'],\n",
      "      dtype='object')\n",
      "**Length of columens**\n",
      "(20,)\n"
     ]
    }
   ],
   "source": [
    "print(df.columns) #checkout column names\n",
    "print(\"**Length of columens**\")\n",
    "print(df.columns.shape)"
   ]
  },
  {
   "cell_type": "code",
   "execution_count": 18,
   "id": "57417553",
   "metadata": {},
   "outputs": [],
   "source": [
    "df.rename(columns = {'U.S. Custom Ports': 'US_Custom_Ports'}, inplace = True)# Rename to aproprite column name"
   ]
  },
  {
   "cell_type": "code",
   "execution_count": 26,
   "id": "82943448",
   "metadata": {},
   "outputs": [
    {
     "data": {
      "text/plain": [
       "Index(['US_Custom_Ports', 'Coast', '2000', '2001', '2002', '2003', '2004',\n",
       "       '2005', '2006', '2007', '2008', '2009', '2010', '2011', '2012', '2013',\n",
       "       '2014', '2015', '2016', '2017'],\n",
       "      dtype='object')"
      ]
     },
     "execution_count": 26,
     "metadata": {},
     "output_type": "execute_result"
    }
   ],
   "source": [
    "df.columns\n"
   ]
  },
  {
   "cell_type": "code",
   "execution_count": 20,
   "id": "81eb775f",
   "metadata": {},
   "outputs": [
    {
     "name": "stdout",
     "output_type": "stream",
     "text": [
      "<class 'pandas.core.frame.DataFrame'>\n",
      "RangeIndex: 63 entries, 0 to 62\n",
      "Data columns (total 20 columns):\n",
      " #   Column           Non-Null Count  Dtype \n",
      "---  ------           --------------  ----- \n",
      " 0   US_Custom_Ports  63 non-null     object\n",
      " 1   Coast            62 non-null     object\n",
      " 2   2000             63 non-null     object\n",
      " 3   2001             63 non-null     object\n",
      " 4   2002             63 non-null     object\n",
      " 5   2003             63 non-null     object\n",
      " 6   2004             63 non-null     object\n",
      " 7   2005             63 non-null     object\n",
      " 8   2006             63 non-null     object\n",
      " 9   2007             63 non-null     object\n",
      " 10  2008             63 non-null     object\n",
      " 11  2009             63 non-null     object\n",
      " 12  2010             63 non-null     object\n",
      " 13  2011             63 non-null     object\n",
      " 14  2012             63 non-null     object\n",
      " 15  2013             63 non-null     object\n",
      " 16  2014             63 non-null     object\n",
      " 17  2015             63 non-null     object\n",
      " 18  2016             63 non-null     object\n",
      " 19  2017             63 non-null     object\n",
      "dtypes: object(20)\n",
      "memory usage: 10.0+ KB\n"
     ]
    }
   ],
   "source": [
    "df.info()"
   ]
  },
  {
   "cell_type": "code",
   "execution_count": 21,
   "id": "b4cca987",
   "metadata": {},
   "outputs": [
    {
     "data": {
      "text/html": [
       "<div>\n",
       "<style scoped>\n",
       "    .dataframe tbody tr th:only-of-type {\n",
       "        vertical-align: middle;\n",
       "    }\n",
       "\n",
       "    .dataframe tbody tr th {\n",
       "        vertical-align: top;\n",
       "    }\n",
       "\n",
       "    .dataframe thead th {\n",
       "        text-align: right;\n",
       "    }\n",
       "</style>\n",
       "<table border=\"1\" class=\"dataframe\">\n",
       "  <thead>\n",
       "    <tr style=\"text-align: right;\">\n",
       "      <th></th>\n",
       "      <th>US_Custom_Ports</th>\n",
       "      <th>Coast</th>\n",
       "      <th>2000</th>\n",
       "      <th>2001</th>\n",
       "      <th>2002</th>\n",
       "      <th>2003</th>\n",
       "      <th>2004</th>\n",
       "      <th>2005</th>\n",
       "      <th>2006</th>\n",
       "      <th>2007</th>\n",
       "      <th>2008</th>\n",
       "      <th>2009</th>\n",
       "      <th>2010</th>\n",
       "      <th>2011</th>\n",
       "      <th>2012</th>\n",
       "      <th>2013</th>\n",
       "      <th>2014</th>\n",
       "      <th>2015</th>\n",
       "      <th>2016</th>\n",
       "      <th>2017</th>\n",
       "    </tr>\n",
       "  </thead>\n",
       "  <tbody>\n",
       "    <tr>\n",
       "      <th>count</th>\n",
       "      <td>63</td>\n",
       "      <td>62</td>\n",
       "      <td>63</td>\n",
       "      <td>63</td>\n",
       "      <td>63</td>\n",
       "      <td>63</td>\n",
       "      <td>63</td>\n",
       "      <td>63</td>\n",
       "      <td>63</td>\n",
       "      <td>63</td>\n",
       "      <td>63</td>\n",
       "      <td>63</td>\n",
       "      <td>63</td>\n",
       "      <td>63</td>\n",
       "      <td>63</td>\n",
       "      <td>63</td>\n",
       "      <td>63</td>\n",
       "      <td>63</td>\n",
       "      <td>63</td>\n",
       "      <td>63</td>\n",
       "    </tr>\n",
       "    <tr>\n",
       "      <th>unique</th>\n",
       "      <td>63</td>\n",
       "      <td>6</td>\n",
       "      <td>49</td>\n",
       "      <td>51</td>\n",
       "      <td>53</td>\n",
       "      <td>56</td>\n",
       "      <td>57</td>\n",
       "      <td>55</td>\n",
       "      <td>58</td>\n",
       "      <td>55</td>\n",
       "      <td>57</td>\n",
       "      <td>56</td>\n",
       "      <td>59</td>\n",
       "      <td>59</td>\n",
       "      <td>59</td>\n",
       "      <td>61</td>\n",
       "      <td>60</td>\n",
       "      <td>52</td>\n",
       "      <td>54</td>\n",
       "      <td>55</td>\n",
       "    </tr>\n",
       "    <tr>\n",
       "      <th>top</th>\n",
       "      <td>Aberdeen, WA</td>\n",
       "      <td>A</td>\n",
       "      <td>0</td>\n",
       "      <td>0</td>\n",
       "      <td>0</td>\n",
       "      <td>0</td>\n",
       "      <td>0</td>\n",
       "      <td>0</td>\n",
       "      <td>0</td>\n",
       "      <td>0</td>\n",
       "      <td>0</td>\n",
       "      <td>0</td>\n",
       "      <td>0</td>\n",
       "      <td>0</td>\n",
       "      <td>0</td>\n",
       "      <td>0</td>\n",
       "      <td>0</td>\n",
       "      <td>0</td>\n",
       "      <td>0</td>\n",
       "      <td>0</td>\n",
       "    </tr>\n",
       "    <tr>\n",
       "      <th>freq</th>\n",
       "      <td>1</td>\n",
       "      <td>25</td>\n",
       "      <td>14</td>\n",
       "      <td>13</td>\n",
       "      <td>11</td>\n",
       "      <td>8</td>\n",
       "      <td>7</td>\n",
       "      <td>9</td>\n",
       "      <td>6</td>\n",
       "      <td>8</td>\n",
       "      <td>7</td>\n",
       "      <td>8</td>\n",
       "      <td>5</td>\n",
       "      <td>5</td>\n",
       "      <td>5</td>\n",
       "      <td>3</td>\n",
       "      <td>4</td>\n",
       "      <td>12</td>\n",
       "      <td>10</td>\n",
       "      <td>9</td>\n",
       "    </tr>\n",
       "  </tbody>\n",
       "</table>\n",
       "</div>"
      ],
      "text/plain": [
       "       US_Custom_Ports Coast 2000 2001 2002 2003 2004 2005 2006 2007 2008  \\\n",
       "count               63    62   63   63   63   63   63   63   63   63   63   \n",
       "unique              63     6   49   51   53   56   57   55   58   55   57   \n",
       "top       Aberdeen, WA     A    0    0    0    0    0    0    0    0    0   \n",
       "freq                 1    25   14   13   11    8    7    9    6    8    7   \n",
       "\n",
       "       2009 2010 2011 2012 2013 2014 2015 2016 2017  \n",
       "count    63   63   63   63   63   63   63   63   63  \n",
       "unique   56   59   59   59   61   60   52   54   55  \n",
       "top       0    0    0    0    0    0    0    0    0  \n",
       "freq      8    5    5    5    3    4   12   10    9  "
      ]
     },
     "execution_count": 21,
     "metadata": {},
     "output_type": "execute_result"
    }
   ],
   "source": [
    "df.describe()"
   ]
  },
  {
   "cell_type": "code",
   "execution_count": 22,
   "id": "d1120ea4",
   "metadata": {
    "collapsed": true
   },
   "outputs": [
    {
     "name": "stderr",
     "output_type": "stream",
     "text": [
      "C:\\Users\\Gez\\AppData\\Local\\Temp\\ipykernel_24404\\1378835575.py:1: FutureWarning: Dropping of nuisance columns in DataFrame reductions (with 'numeric_only=None') is deprecated; in a future version this will raise TypeError.  Select only valid columns before calling the reduction.\n",
      "  df.max()\n"
     ]
    },
    {
     "data": {
      "text/plain": [
       "US_Custom_Ports    Wilmington, NC\n",
       "2000                      967,306\n",
       "2001                      964,634\n",
       "2002                       98,599\n",
       "2003                       95,584\n",
       "2004                      906,018\n",
       "2005                      826,931\n",
       "2006                      890,403\n",
       "2007                      962,676\n",
       "2008                      852,571\n",
       "2009                      961,631\n",
       "2010                        9,324\n",
       "2011                          980\n",
       "2012                      968,725\n",
       "2013                          966\n",
       "2014                        9,797\n",
       "2015                      915,182\n",
       "2016                      957,981\n",
       "2017                       96,817\n",
       "dtype: object"
      ]
     },
     "execution_count": 22,
     "metadata": {},
     "output_type": "execute_result"
    }
   ],
   "source": [
    "df.max() "
   ]
  },
  {
   "cell_type": "code",
   "execution_count": 27,
   "id": "66a4381c",
   "metadata": {},
   "outputs": [],
   "source": [
    "Year = []\n",
    "Busy_Port  = []\n",
    "\n",
    "dict = {2000:'2000', 2001:'2001', 2002: '2002', 2003: '2003', 2004:'2004', 2005:'2005', 2006:'2006', 2007:'2007', \n",
    "        2008:'2008', 2009:'2009',  2010:'2010',  2011:'2011', 2012:'2012', 2013:'2013', 2014:'2014', 2015:'2015', \n",
    "        2016:'2016', 2017:'2017'}\n",
    "\n",
    "\n",
    "for i in range(2000, 2018):\n",
    "    Max_val = df[dict[i]].max()\n",
    "    busy = df.loc[df[dict[i]] == Max_val, 'US_Custom_Ports'].iloc[0]\n",
    "    Year.append(i)\n",
    "    Busy_Port.append(busy)"
   ]
  },
  {
   "cell_type": "markdown",
   "id": "c5c7fdc8",
   "metadata": {},
   "source": [
    "#### Get the buzy port "
   ]
  },
  {
   "cell_type": "code",
   "execution_count": 28,
   "id": "254924a4",
   "metadata": {},
   "outputs": [
    {
     "name": "stdout",
     "output_type": "stream",
     "text": [
      "Busiest port of USA in 2000 was New Orleans, LA\n",
      "Busiest port of USA in 2001 was Wilmington, DE\n",
      "Busiest port of USA in 2002 was San Francisco, CA\n",
      "Busiest port of USA in 2003 was Port Hueneme, CA\n",
      "Busiest port of USA in 2004 was Gulfport, MS\n",
      "Busiest port of USA in 2005 was Gulfport, MS\n",
      "Busiest port of USA in 2006 was New Orleans, LA\n",
      "Busiest port of USA in 2007 was New Orleans, LA\n",
      "Busiest port of USA in 2008 was Gulfport, MS\n",
      "Busiest port of USA in 2009 was New Orleans, LA\n",
      "Busiest port of USA in 2010 was Everett, WA\n",
      "Busiest port of USA in 2011 was Newport News, VA\n",
      "Busiest port of USA in 2012 was New Orleans, LA\n",
      "Busiest port of USA in 2013 was Salem, NJ\n",
      "Busiest port of USA in 2014 was Vancouver, WA\n",
      "Busiest port of USA in 2015 was Boston, MA\n",
      "Busiest port of USA in 2016 was Boston, MA\n",
      "Busiest port of USA in 2017 was Portland, ME\n"
     ]
    }
   ],
   "source": [
    "\n",
    "for i in range(2000, 2018):\n",
    "    Max_val = df[dict[i]].max()\n",
    "    busy = df.loc[df[dict[i]] == Max_val, 'US_Custom_Ports'].iloc[0]\n",
    "    print('Busiest port of USA in {} was '.format(i) + busy)"
   ]
  },
  {
   "cell_type": "markdown",
   "id": "4e654f74",
   "metadata": {},
   "source": [
    "**New Orleans, LA** looks the most buzy port in USA from the indicated years above"
   ]
  },
  {
   "cell_type": "markdown",
   "id": "3d93b3c4",
   "metadata": {},
   "source": [
    "**Finding the Buzy coast**"
   ]
  },
  {
   "cell_type": "code",
   "execution_count": 29,
   "id": "0548b57b",
   "metadata": {},
   "outputs": [
    {
     "data": {
      "text/plain": [
       "A     25\n",
       "G     16\n",
       "P     15\n",
       "PR     3\n",
       "AK     2\n",
       "HI     1\n",
       "Name: Coast, dtype: int64"
      ]
     },
     "execution_count": 29,
     "metadata": {},
     "output_type": "execute_result"
    }
   ],
   "source": [
    "df['Coast'].value_counts().head(10)"
   ]
  },
  {
   "cell_type": "markdown",
   "id": "c3294b42",
   "metadata": {},
   "source": [
    "**Coast A is the most busiest port followed by Port G**"
   ]
  },
  {
   "cell_type": "markdown",
   "id": "ad92603e",
   "metadata": {},
   "source": [
    "**Get The least or min Container traffic each year**"
   ]
  },
  {
   "cell_type": "code",
   "execution_count": 30,
   "id": "7027e873",
   "metadata": {},
   "outputs": [
    {
     "name": "stderr",
     "output_type": "stream",
     "text": [
      "C:\\Users\\Gez\\AppData\\Local\\Temp\\ipykernel_24404\\3962516015.py:1: FutureWarning: Dropping of nuisance columns in DataFrame reductions (with 'numeric_only=None') is deprecated; in a future version this will raise TypeError.  Select only valid columns before calling the reduction.\n",
      "  df.min()\n"
     ]
    },
    {
     "data": {
      "text/plain": [
       "US_Custom_Ports    Aberdeen, WA\n",
       "2000                          0\n",
       "2001                          0\n",
       "2002                          0\n",
       "2003                          0\n",
       "2004                          0\n",
       "2005                          0\n",
       "2006                          0\n",
       "2007                          0\n",
       "2008                          0\n",
       "2009                          0\n",
       "2010                          0\n",
       "2011                          0\n",
       "2012                          0\n",
       "2013                          0\n",
       "2014                          0\n",
       "2015                          0\n",
       "2016                          0\n",
       "2017                          0\n",
       "dtype: object"
      ]
     },
     "execution_count": 30,
     "metadata": {},
     "output_type": "execute_result"
    }
   ],
   "source": [
    "df.min()"
   ]
  },
  {
   "cell_type": "code",
   "execution_count": 31,
   "id": "a6fbda9e",
   "metadata": {},
   "outputs": [
    {
     "name": "stdout",
     "output_type": "stream",
     "text": [
      "Port with least traffic in 2000 was Aberdeen, WA\n",
      "Port with least traffic in 2001 was Aberdeen, WA\n",
      "Port with least traffic in 2002 was Aberdeen, WA\n",
      "Port with least traffic in 2003 was Aberdeen, WA\n",
      "Port with least traffic in 2004 was Aberdeen, WA\n",
      "Port with least traffic in 2005 was Anacortes, WA\n",
      "Port with least traffic in 2006 was Aberdeen, WA\n",
      "Port with least traffic in 2007 was Aberdeen, WA\n",
      "Port with least traffic in 2008 was Aberdeen, WA\n",
      "Port with least traffic in 2009 was Anacortes, WA\n",
      "Port with least traffic in 2010 was Aberdeen, WA\n",
      "Port with least traffic in 2011 was Anacortes, WA\n",
      "Port with least traffic in 2012 was Anacortes, WA\n",
      "Port with least traffic in 2013 was Beaufort-Morehead City, NC\n",
      "Port with least traffic in 2014 was Anacortes, WA\n",
      "Port with least traffic in 2015 was Anacortes, WA\n",
      "Port with least traffic in 2016 was Anacortes, WA\n",
      "Port with least traffic in 2017 was Anacortes, WA\n"
     ]
    }
   ],
   "source": [
    "Vaccant_Port = []\n",
    "\n",
    "for i in range(2000, 2018):\n",
    "    Min_val = df[dict[i]].min()\n",
    "    Not_busy = df.loc[df[dict[i]] == Min_val, 'US_Custom_Ports'].iloc[0]\n",
    "    Vaccant_Port.append(Not_busy)\n",
    "    print('Port with least traffic in {} was '.format(i) + Not_busy)\n",
    "    \n",
    "df1 = pd.DataFrame({'Busy_Port':Busy_Port,'Vaccant_Port':Vaccant_Port, 'Year':Year})"
   ]
  },
  {
   "cell_type": "code",
   "execution_count": 47,
   "id": "3654a020",
   "metadata": {},
   "outputs": [
    {
     "ename": "AttributeError",
     "evalue": "'function' object has no attribute 'sum'",
     "output_type": "error",
     "traceback": [
      "\u001b[1;31m---------------------------------------------------------------------------\u001b[0m",
      "\u001b[1;31mAttributeError\u001b[0m                            Traceback (most recent call last)",
      "\u001b[1;32m~\\AppData\\Local\\Temp\\ipykernel_24404\\2362877291.py\u001b[0m in \u001b[0;36m<module>\u001b[1;34m\u001b[0m\n\u001b[1;32m----> 1\u001b[1;33m \u001b[0mdf1\u001b[0m\u001b[1;33m.\u001b[0m\u001b[0mVaccant_Port\u001b[0m\u001b[1;33m.\u001b[0m\u001b[0mcount\u001b[0m\u001b[1;33m.\u001b[0m\u001b[0msum\u001b[0m\u001b[1;33m(\u001b[0m\u001b[1;33m)\u001b[0m\u001b[1;33m\u001b[0m\u001b[1;33m\u001b[0m\u001b[0m\n\u001b[0m\u001b[0;32m      2\u001b[0m \u001b[1;33m\u001b[0m\u001b[0m\n",
      "\u001b[1;31mAttributeError\u001b[0m: 'function' object has no attribute 'sum'"
     ]
    }
   ],
   "source": [
    "df1.Vaccant_Port.count.sum()\n",
    "\n"
   ]
  },
  {
   "cell_type": "code",
   "execution_count": null,
   "id": "06c1bc19",
   "metadata": {},
   "outputs": [],
   "source": []
  }
 ],
 "metadata": {
  "kernelspec": {
   "display_name": "Python 3 (ipykernel)",
   "language": "python",
   "name": "python3"
  },
  "language_info": {
   "codemirror_mode": {
    "name": "ipython",
    "version": 3
   },
   "file_extension": ".py",
   "mimetype": "text/x-python",
   "name": "python",
   "nbconvert_exporter": "python",
   "pygments_lexer": "ipython3",
   "version": "3.9.13"
  }
 },
 "nbformat": 4,
 "nbformat_minor": 5
}
